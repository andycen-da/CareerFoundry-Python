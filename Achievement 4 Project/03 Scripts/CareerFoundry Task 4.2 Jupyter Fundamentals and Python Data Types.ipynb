{
 "cells": [
  {
   "cell_type": "markdown",
   "id": "859553d3-22af-4bd9-9c93-e86e6d6f1f1c",
   "metadata": {},
   "source": [
    "01. Importing libraries"
   ]
  },
  {
   "cell_type": "code",
   "execution_count": 3,
   "id": "a13c6e1a-42c2-4f73-9a40-f286979c4d2e",
   "metadata": {},
   "outputs": [],
   "source": [
    "# Importing libraries\n",
    "import pandas as pd\n",
    "import numpy as np\n",
    "import os"
   ]
  },
  {
   "cell_type": "markdown",
   "id": "d76b000f-959d-486a-9259-b33a62d4d426",
   "metadata": {},
   "source": [
    "02. Python data types"
   ]
  },
  {
   "cell_type": "code",
   "execution_count": 19,
   "id": "8ebb2585-f5b3-4f57-bef5-ca4db3a6e969",
   "metadata": {},
   "outputs": [],
   "source": [
    "# 3 different ways of reaching a result of 100 by adding or subtracting numeric variables\n",
    "x = 50"
   ]
  },
  {
   "cell_type": "code",
   "execution_count": 11,
   "id": "24a5698d-ebd5-4727-9519-bd596fc29fda",
   "metadata": {},
   "outputs": [
    {
     "data": {
      "text/plain": [
       "100"
      ]
     },
     "execution_count": 11,
     "metadata": {},
     "output_type": "execute_result"
    }
   ],
   "source": [
    "x + x"
   ]
  },
  {
   "cell_type": "code",
   "execution_count": 13,
   "id": "c1ec05a4-e973-4349-aff5-d44016c3dcb1",
   "metadata": {},
   "outputs": [],
   "source": [
    "y = 25"
   ]
  },
  {
   "cell_type": "code",
   "execution_count": 15,
   "id": "d6d4589f-05d2-4bd7-8176-d07ec5cd588d",
   "metadata": {},
   "outputs": [
    {
     "data": {
      "text/plain": [
       "100"
      ]
     },
     "execution_count": 15,
     "metadata": {},
     "output_type": "execute_result"
    }
   ],
   "source": [
    "x + y + y"
   ]
  },
  {
   "cell_type": "code",
   "execution_count": 17,
   "id": "fed0099d-80c8-4e6a-a0c1-9dea0605cec2",
   "metadata": {},
   "outputs": [
    {
     "data": {
      "text/plain": [
       "100"
      ]
     },
     "execution_count": 17,
     "metadata": {},
     "output_type": "execute_result"
    }
   ],
   "source": [
    "y + y + y + y"
   ]
  },
  {
   "cell_type": "code",
   "execution_count": 21,
   "id": "6fac70cf-184e-4f4e-bcc0-f2456f7bd428",
   "metadata": {},
   "outputs": [],
   "source": [
    "#2 floating-point variables and divide them by each other\n",
    "v = 3.5"
   ]
  },
  {
   "cell_type": "code",
   "execution_count": 23,
   "id": "57ba6bfa-6ee0-4ac4-8376-87f4c69ccc94",
   "metadata": {},
   "outputs": [],
   "source": [
    "w = 10.5"
   ]
  },
  {
   "cell_type": "code",
   "execution_count": 25,
   "id": "e7d8eca0-abed-4bb9-862f-210c10e2cd23",
   "metadata": {},
   "outputs": [
    {
     "data": {
      "text/plain": [
       "3.0"
      ]
     },
     "execution_count": 25,
     "metadata": {},
     "output_type": "execute_result"
    }
   ],
   "source": [
    "w / v"
   ]
  },
  {
   "cell_type": "code",
   "execution_count": 27,
   "id": "97c1ae6c-88b7-416d-9039-c9b3e20e7e87",
   "metadata": {},
   "outputs": [],
   "source": [
    "#Construct a short word made of separate strings \n",
    "a = 'note'"
   ]
  },
  {
   "cell_type": "code",
   "execution_count": 29,
   "id": "060f5e7f-dc51-446a-9e2b-a03211e018f0",
   "metadata": {},
   "outputs": [],
   "source": [
    "b = 'book'"
   ]
  },
  {
   "cell_type": "code",
   "execution_count": 31,
   "id": "8b12bc16-eb65-4761-8042-a19ed8db1081",
   "metadata": {},
   "outputs": [
    {
     "data": {
      "text/plain": [
       "'notebook'"
      ]
     },
     "execution_count": 31,
     "metadata": {},
     "output_type": "execute_result"
    }
   ],
   "source": [
    "a + b"
   ]
  },
  {
   "cell_type": "code",
   "execution_count": 45,
   "id": "a66bbf56-0ca5-43e3-840c-bea404d70845",
   "metadata": {},
   "outputs": [],
   "source": [
    "#Construct 2 short sentences made of separate strings.\n",
    "c = 'I am learning '"
   ]
  },
  {
   "cell_type": "code",
   "execution_count": 41,
   "id": "b7238f3c-a7c8-435e-aefb-063d23f80a64",
   "metadata": {},
   "outputs": [],
   "source": [
    "d = 'Python and SQL. '"
   ]
  },
  {
   "cell_type": "code",
   "execution_count": 37,
   "id": "3d726b00-7268-4c6b-9923-68ae4c11d8c5",
   "metadata": {},
   "outputs": [],
   "source": [
    "e = 'It is challenging '"
   ]
  },
  {
   "cell_type": "code",
   "execution_count": 39,
   "id": "fdca0a2f-be86-4c83-b928-dc16e40570ad",
   "metadata": {},
   "outputs": [],
   "source": [
    "f = 'and very enjoyable.'"
   ]
  },
  {
   "cell_type": "code",
   "execution_count": 43,
   "id": "7df25fee-7160-49bf-9e15-e402ff7764d5",
   "metadata": {},
   "outputs": [
    {
     "data": {
      "text/plain": [
       "'I am learning Python and SQL. It is challenging and very enjoyable.'"
      ]
     },
     "execution_count": 43,
     "metadata": {},
     "output_type": "execute_result"
    }
   ],
   "source": [
    "c + d + e + f"
   ]
  },
  {
   "cell_type": "code",
   "execution_count": 47,
   "id": "e34b5444-8dbc-4633-ba7b-a1ba4074d87f",
   "metadata": {},
   "outputs": [
    {
     "data": {
      "text/plain": [
       "'notenotenotenotenotenotenotenotenotenotenotenotenotenotenotenotenotenotenotenotenotenotenotenotenotenotenotenotenotenotenotenotenotenotenotenotenotenotenotenotenotenotenotenotenotenotenotenotenotenotenotenotenotenotenotenotenotenotenotenotenotenotenotenotenotenotenotenotenotenotenotenotenotenotenotenotenotenotenotenotenotenotenotenotenotenotenotenotenotenotenotenotenotenotenotenotenotenotenotenote'"
      ]
     },
     "execution_count": 47,
     "metadata": {},
     "output_type": "execute_result"
    }
   ],
   "source": [
    "#Bonus Task: At the bottom of your file, include a command that makes a string appear 100 times.\n",
    "a * 100"
   ]
  },
  {
   "cell_type": "code",
   "execution_count": null,
   "id": "699ae5e3-8298-4400-a1d2-a46d040ccf10",
   "metadata": {},
   "outputs": [],
   "source": []
  }
 ],
 "metadata": {
  "kernelspec": {
   "display_name": "Python 3 (ipykernel)",
   "language": "python",
   "name": "python3"
  },
  "language_info": {
   "codemirror_mode": {
    "name": "ipython",
    "version": 3
   },
   "file_extension": ".py",
   "mimetype": "text/x-python",
   "name": "python",
   "nbconvert_exporter": "python",
   "pygments_lexer": "ipython3",
   "version": "3.12.4"
  }
 },
 "nbformat": 4,
 "nbformat_minor": 5
}
